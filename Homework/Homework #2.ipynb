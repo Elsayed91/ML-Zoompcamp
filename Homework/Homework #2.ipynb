{
 "cells": [
  {
   "cell_type": "markdown",
   "id": "571bc996",
   "metadata": {},
   "source": [
    "## EDA\n",
    "Load the data.\n",
    "Look at the median_house_value variable. Does it have a long tail?"
   ]
  },
  {
   "cell_type": "code",
   "execution_count": 1,
   "id": "3fa7fd8c",
   "metadata": {},
   "outputs": [],
   "source": [
    "#imports\n",
    "import pandas as pd\n",
    "import numpy as np\n",
    "import seaborn as sns\n",
    "from matplotlib import pyplot as plt\n",
    "from sklearn.metrics import mean_squared_error"
   ]
  },
  {
   "cell_type": "code",
   "execution_count": 2,
   "id": "43016894",
   "metadata": {},
   "outputs": [
    {
     "data": {
      "text/html": [
       "<div>\n",
       "<style scoped>\n",
       "    .dataframe tbody tr th:only-of-type {\n",
       "        vertical-align: middle;\n",
       "    }\n",
       "\n",
       "    .dataframe tbody tr th {\n",
       "        vertical-align: top;\n",
       "    }\n",
       "\n",
       "    .dataframe thead th {\n",
       "        text-align: right;\n",
       "    }\n",
       "</style>\n",
       "<table border=\"1\" class=\"dataframe\">\n",
       "  <thead>\n",
       "    <tr style=\"text-align: right;\">\n",
       "      <th></th>\n",
       "      <th>longitude</th>\n",
       "      <th>latitude</th>\n",
       "      <th>housing_median_age</th>\n",
       "      <th>total_rooms</th>\n",
       "      <th>total_bedrooms</th>\n",
       "      <th>population</th>\n",
       "      <th>households</th>\n",
       "      <th>median_income</th>\n",
       "      <th>median_house_value</th>\n",
       "      <th>ocean_proximity</th>\n",
       "    </tr>\n",
       "  </thead>\n",
       "  <tbody>\n",
       "    <tr>\n",
       "      <th>0</th>\n",
       "      <td>-122.23</td>\n",
       "      <td>37.88</td>\n",
       "      <td>41.0</td>\n",
       "      <td>880.0</td>\n",
       "      <td>129.0</td>\n",
       "      <td>322.0</td>\n",
       "      <td>126.0</td>\n",
       "      <td>8.3252</td>\n",
       "      <td>452600.0</td>\n",
       "      <td>NEAR BAY</td>\n",
       "    </tr>\n",
       "    <tr>\n",
       "      <th>1</th>\n",
       "      <td>-122.22</td>\n",
       "      <td>37.86</td>\n",
       "      <td>21.0</td>\n",
       "      <td>7099.0</td>\n",
       "      <td>1106.0</td>\n",
       "      <td>2401.0</td>\n",
       "      <td>1138.0</td>\n",
       "      <td>8.3014</td>\n",
       "      <td>358500.0</td>\n",
       "      <td>NEAR BAY</td>\n",
       "    </tr>\n",
       "    <tr>\n",
       "      <th>2</th>\n",
       "      <td>-122.24</td>\n",
       "      <td>37.85</td>\n",
       "      <td>52.0</td>\n",
       "      <td>1467.0</td>\n",
       "      <td>190.0</td>\n",
       "      <td>496.0</td>\n",
       "      <td>177.0</td>\n",
       "      <td>7.2574</td>\n",
       "      <td>352100.0</td>\n",
       "      <td>NEAR BAY</td>\n",
       "    </tr>\n",
       "    <tr>\n",
       "      <th>3</th>\n",
       "      <td>-122.25</td>\n",
       "      <td>37.85</td>\n",
       "      <td>52.0</td>\n",
       "      <td>1274.0</td>\n",
       "      <td>235.0</td>\n",
       "      <td>558.0</td>\n",
       "      <td>219.0</td>\n",
       "      <td>5.6431</td>\n",
       "      <td>341300.0</td>\n",
       "      <td>NEAR BAY</td>\n",
       "    </tr>\n",
       "    <tr>\n",
       "      <th>4</th>\n",
       "      <td>-122.25</td>\n",
       "      <td>37.85</td>\n",
       "      <td>52.0</td>\n",
       "      <td>1627.0</td>\n",
       "      <td>280.0</td>\n",
       "      <td>565.0</td>\n",
       "      <td>259.0</td>\n",
       "      <td>3.8462</td>\n",
       "      <td>342200.0</td>\n",
       "      <td>NEAR BAY</td>\n",
       "    </tr>\n",
       "  </tbody>\n",
       "</table>\n",
       "</div>"
      ],
      "text/plain": [
       "   longitude  latitude  housing_median_age  total_rooms  total_bedrooms  \\\n",
       "0    -122.23     37.88                41.0        880.0           129.0   \n",
       "1    -122.22     37.86                21.0       7099.0          1106.0   \n",
       "2    -122.24     37.85                52.0       1467.0           190.0   \n",
       "3    -122.25     37.85                52.0       1274.0           235.0   \n",
       "4    -122.25     37.85                52.0       1627.0           280.0   \n",
       "\n",
       "   population  households  median_income  median_house_value ocean_proximity  \n",
       "0       322.0       126.0         8.3252            452600.0        NEAR BAY  \n",
       "1      2401.0      1138.0         8.3014            358500.0        NEAR BAY  \n",
       "2       496.0       177.0         7.2574            352100.0        NEAR BAY  \n",
       "3       558.0       219.0         5.6431            341300.0        NEAR BAY  \n",
       "4       565.0       259.0         3.8462            342200.0        NEAR BAY  "
      ]
     },
     "execution_count": 2,
     "metadata": {},
     "output_type": "execute_result"
    }
   ],
   "source": [
    "#load the data\n",
    "df = pd.read_csv('housing.csv')\n",
    "df.head()"
   ]
  },
  {
   "cell_type": "code",
   "execution_count": 3,
   "id": "2c4389ba",
   "metadata": {},
   "outputs": [
    {
     "data": {
      "image/png": "[encoded data removed]",
      "text/plain": [
       "<Figure size 432x288 with 1 Axes>"
      ]
     },
     "metadata": {
      "needs_background": "light"
     },
     "output_type": "display_data"
    }
   ],
   "source": [
    "#look at median_house_value\n",
    "sns.histplot(df.median_house_value, alpha = 0.6, bins = 40, color='#123ff5')\n",
    "plt.title('Median House Value');"
   ]
  },
  {
   "cell_type": "markdown",
   "id": "fef37958",
   "metadata": {},
   "source": [
    "## Features\n",
    "For the rest of the homework, you'll need to use only these columns:\n",
    "\n",
    "'latitude',\n",
    "'longitude',\n",
    "'housing_median_age',\n",
    "'total_rooms',\n",
    "'total_bedrooms',\n",
    "'population',\n",
    "'households',\n",
    "'median_income',\n",
    "'median_house_value'\n",
    "Select only them."
   ]
  },
  {
   "cell_type": "code",
   "execution_count": 4,
   "id": "db5b234b",
   "metadata": {},
   "outputs": [
    {
     "data": {
      "text/html": [
       "<div>\n",
       "<style scoped>\n",
       "    .dataframe tbody tr th:only-of-type {\n",
       "        vertical-align: middle;\n",
       "    }\n",
       "\n",
       "    .dataframe tbody tr th {\n",
       "        vertical-align: top;\n",
       "    }\n",
       "\n",
       "    .dataframe thead th {\n",
       "        text-align: right;\n",
       "    }\n",
       "</style>\n",
       "<table border=\"1\" class=\"dataframe\">\n",
       "  <thead>\n",
       "    <tr style=\"text-align: right;\">\n",
       "      <th></th>\n",
       "      <th>latitude</th>\n",
       "      <th>longitude</th>\n",
       "      <th>housing_median_age</th>\n",
       "      <th>total_rooms</th>\n",
       "      <th>total_bedrooms</th>\n",
       "      <th>population</th>\n",
       "      <th>households</th>\n",
       "      <th>median_income</th>\n",
       "      <th>median_house_value</th>\n",
       "    </tr>\n",
       "  </thead>\n",
       "  <tbody>\n",
       "    <tr>\n",
       "      <th>0</th>\n",
       "      <td>37.88</td>\n",
       "      <td>-122.23</td>\n",
       "      <td>41.0</td>\n",
       "      <td>880.0</td>\n",
       "      <td>129.0</td>\n",
       "      <td>322.0</td>\n",
       "      <td>126.0</td>\n",
       "      <td>8.3252</td>\n",
       "      <td>452600.0</td>\n",
       "    </tr>\n",
       "    <tr>\n",
       "      <th>1</th>\n",
       "      <td>37.86</td>\n",
       "      <td>-122.22</td>\n",
       "      <td>21.0</td>\n",
       "      <td>7099.0</td>\n",
       "      <td>1106.0</td>\n",
       "      <td>2401.0</td>\n",
       "      <td>1138.0</td>\n",
       "      <td>8.3014</td>\n",
       "      <td>358500.0</td>\n",
       "    </tr>\n",
       "    <tr>\n",
       "      <th>2</th>\n",
       "      <td>37.85</td>\n",
       "      <td>-122.24</td>\n",
       "      <td>52.0</td>\n",
       "      <td>1467.0</td>\n",
       "      <td>190.0</td>\n",
       "      <td>496.0</td>\n",
       "      <td>177.0</td>\n",
       "      <td>7.2574</td>\n",
       "      <td>352100.0</td>\n",
       "    </tr>\n",
       "    <tr>\n",
       "      <th>3</th>\n",
       "      <td>37.85</td>\n",
       "      <td>-122.25</td>\n",
       "      <td>52.0</td>\n",
       "      <td>1274.0</td>\n",
       "      <td>235.0</td>\n",
       "      <td>558.0</td>\n",
       "      <td>219.0</td>\n",
       "      <td>5.6431</td>\n",
       "      <td>341300.0</td>\n",
       "    </tr>\n",
       "    <tr>\n",
       "      <th>4</th>\n",
       "      <td>37.85</td>\n",
       "      <td>-122.25</td>\n",
       "      <td>52.0</td>\n",
       "      <td>1627.0</td>\n",
       "      <td>280.0</td>\n",
       "      <td>565.0</td>\n",
       "      <td>259.0</td>\n",
       "      <td>3.8462</td>\n",
       "      <td>342200.0</td>\n",
       "    </tr>\n",
       "  </tbody>\n",
       "</table>\n",
       "</div>"
      ],
      "text/plain": [
       "   latitude  longitude  housing_median_age  total_rooms  total_bedrooms  \\\n",
       "0     37.88    -122.23                41.0        880.0           129.0   \n",
       "1     37.86    -122.22                21.0       7099.0          1106.0   \n",
       "2     37.85    -122.24                52.0       1467.0           190.0   \n",
       "3     37.85    -122.25                52.0       1274.0           235.0   \n",
       "4     37.85    -122.25                52.0       1627.0           280.0   \n",
       "\n",
       "   population  households  median_income  median_house_value  \n",
       "0       322.0       126.0         8.3252            452600.0  \n",
       "1      2401.0      1138.0         8.3014            358500.0  \n",
       "2       496.0       177.0         7.2574            352100.0  \n",
       "3       558.0       219.0         5.6431            341300.0  \n",
       "4       565.0       259.0         3.8462            342200.0  "
      ]
     },
     "execution_count": 4,
     "metadata": {},
     "output_type": "execute_result"
    }
   ],
   "source": [
    "cols = ['latitude', 'longitude', 'housing_median_age', 'total_rooms', 'total_bedrooms', 'population', 'households', 'median_income', 'median_house_value']\n",
    "df = df[cols]\n",
    "df.head()"
   ]
  },
  {
   "cell_type": "markdown",
   "id": "56bc7988",
   "metadata": {},
   "source": [
    "## Question 1\n",
    "Find a feature with missing values. How many missing values does it have?\n",
    "\n",
    "**207**/208/307/308"
   ]
  },
  {
   "cell_type": "code",
   "execution_count": 5,
   "id": "b7d9d2da",
   "metadata": {},
   "outputs": [
    {
     "data": {
      "text/plain": [
       "latitude                0\n",
       "longitude               0\n",
       "housing_median_age      0\n",
       "total_rooms             0\n",
       "total_bedrooms        207\n",
       "population              0\n",
       "households              0\n",
       "median_income           0\n",
       "median_house_value      0\n",
       "dtype: int64"
      ]
     },
     "execution_count": 5,
     "metadata": {},
     "output_type": "execute_result"
    }
   ],
   "source": [
    "df.isnull().sum()\n",
    "# total_bedrooms => 207"
   ]
  },
  {
   "cell_type": "markdown",
   "id": "7c2168a6",
   "metadata": {},
   "source": [
    "## Question 2\n",
    "What's the median (50% percentile) for variable 'population'?\n",
    "\n",
    "1133\n",
    "1122\n",
    "**1166**\n",
    "1188"
   ]
  },
  {
   "cell_type": "code",
   "execution_count": 6,
   "id": "e0918c1c",
   "metadata": {
    "scrolled": false
   },
   "outputs": [
    {
     "data": {
      "text/plain": [
       "count    20640.000000\n",
       "mean      1425.476744\n",
       "std       1132.462122\n",
       "min          3.000000\n",
       "25%        787.000000\n",
       "50%       1166.000000\n",
       "75%       1725.000000\n",
       "max      35682.000000\n",
       "Name: population, dtype: float64"
      ]
     },
     "execution_count": 6,
     "metadata": {},
     "output_type": "execute_result"
    }
   ],
   "source": [
    "df.population.describe()"
   ]
  },
  {
   "cell_type": "markdown",
   "id": "d4e4413d",
   "metadata": {},
   "source": [
    "## Split the data\n",
    "- Shuffle the initial dataset, use seed 42.\n",
    "- Split your data in train/val/test sets, with 60%/20%/20% distribution.\n",
    "- Make sure that the target value ('median_house_value') is not in your dataframe.\n",
    "- Apply the log transformation to the median_house_value variable using the np.log1p() function."
   ]
  },
  {
   "cell_type": "code",
   "execution_count": 7,
   "id": "0762527e",
   "metadata": {},
   "outputs": [
    {
     "data": {
      "text/plain": [
       "True"
      ]
     },
     "execution_count": 7,
     "metadata": {},
     "output_type": "execute_result"
    }
   ],
   "source": [
    "#set seeds and ns\n",
    "np.random.seed(42)\n",
    "n = len(df)\n",
    "n_val = int(0.2*n)\n",
    "n_test = n_val\n",
    "n_train = n - 2* n_val\n",
    "len(df) == n_train + n_test + n_val"
   ]
  },
  {
   "cell_type": "code",
   "execution_count": 8,
   "id": "615ee004",
   "metadata": {},
   "outputs": [
    {
     "data": {
      "text/html": [
       "<div>\n",
       "<style scoped>\n",
       "    .dataframe tbody tr th:only-of-type {\n",
       "        vertical-align: middle;\n",
       "    }\n",
       "\n",
       "    .dataframe tbody tr th {\n",
       "        vertical-align: top;\n",
       "    }\n",
       "\n",
       "    .dataframe thead th {\n",
       "        text-align: right;\n",
       "    }\n",
       "</style>\n",
       "<table border=\"1\" class=\"dataframe\">\n",
       "  <thead>\n",
       "    <tr style=\"text-align: right;\">\n",
       "      <th></th>\n",
       "      <th>latitude</th>\n",
       "      <th>longitude</th>\n",
       "      <th>housing_median_age</th>\n",
       "      <th>total_rooms</th>\n",
       "      <th>total_bedrooms</th>\n",
       "      <th>population</th>\n",
       "      <th>households</th>\n",
       "      <th>median_income</th>\n",
       "      <th>median_house_value</th>\n",
       "    </tr>\n",
       "  </thead>\n",
       "  <tbody>\n",
       "    <tr>\n",
       "      <th>0</th>\n",
       "      <td>36.06</td>\n",
       "      <td>-119.01</td>\n",
       "      <td>25.0</td>\n",
       "      <td>1505.0</td>\n",
       "      <td>NaN</td>\n",
       "      <td>1392.0</td>\n",
       "      <td>359.0</td>\n",
       "      <td>1.6812</td>\n",
       "      <td>47700.0</td>\n",
       "    </tr>\n",
       "    <tr>\n",
       "      <th>1</th>\n",
       "      <td>35.14</td>\n",
       "      <td>-119.46</td>\n",
       "      <td>30.0</td>\n",
       "      <td>2943.0</td>\n",
       "      <td>NaN</td>\n",
       "      <td>1565.0</td>\n",
       "      <td>584.0</td>\n",
       "      <td>2.5313</td>\n",
       "      <td>45800.0</td>\n",
       "    </tr>\n",
       "    <tr>\n",
       "      <th>2</th>\n",
       "      <td>37.80</td>\n",
       "      <td>-122.44</td>\n",
       "      <td>52.0</td>\n",
       "      <td>3830.0</td>\n",
       "      <td>NaN</td>\n",
       "      <td>1310.0</td>\n",
       "      <td>963.0</td>\n",
       "      <td>3.4801</td>\n",
       "      <td>500001.0</td>\n",
       "    </tr>\n",
       "    <tr>\n",
       "      <th>3</th>\n",
       "      <td>34.28</td>\n",
       "      <td>-118.72</td>\n",
       "      <td>17.0</td>\n",
       "      <td>3051.0</td>\n",
       "      <td>NaN</td>\n",
       "      <td>1705.0</td>\n",
       "      <td>495.0</td>\n",
       "      <td>5.7376</td>\n",
       "      <td>218600.0</td>\n",
       "    </tr>\n",
       "    <tr>\n",
       "      <th>4</th>\n",
       "      <td>36.62</td>\n",
       "      <td>-121.93</td>\n",
       "      <td>34.0</td>\n",
       "      <td>2351.0</td>\n",
       "      <td>NaN</td>\n",
       "      <td>1063.0</td>\n",
       "      <td>428.0</td>\n",
       "      <td>3.7250</td>\n",
       "      <td>278000.0</td>\n",
       "    </tr>\n",
       "    <tr>\n",
       "      <th>...</th>\n",
       "      <td>...</td>\n",
       "      <td>...</td>\n",
       "      <td>...</td>\n",
       "      <td>...</td>\n",
       "      <td>...</td>\n",
       "      <td>...</td>\n",
       "      <td>...</td>\n",
       "      <td>...</td>\n",
       "      <td>...</td>\n",
       "    </tr>\n",
       "    <tr>\n",
       "      <th>20635</th>\n",
       "      <td>33.78</td>\n",
       "      <td>-117.96</td>\n",
       "      <td>35.0</td>\n",
       "      <td>1330.0</td>\n",
       "      <td>201.0</td>\n",
       "      <td>658.0</td>\n",
       "      <td>217.0</td>\n",
       "      <td>6.3700</td>\n",
       "      <td>229200.0</td>\n",
       "    </tr>\n",
       "    <tr>\n",
       "      <th>20636</th>\n",
       "      <td>34.02</td>\n",
       "      <td>-117.43</td>\n",
       "      <td>33.0</td>\n",
       "      <td>3084.0</td>\n",
       "      <td>570.0</td>\n",
       "      <td>1753.0</td>\n",
       "      <td>449.0</td>\n",
       "      <td>3.0500</td>\n",
       "      <td>97800.0</td>\n",
       "    </tr>\n",
       "    <tr>\n",
       "      <th>20637</th>\n",
       "      <td>34.03</td>\n",
       "      <td>-118.38</td>\n",
       "      <td>36.0</td>\n",
       "      <td>2101.0</td>\n",
       "      <td>569.0</td>\n",
       "      <td>1756.0</td>\n",
       "      <td>527.0</td>\n",
       "      <td>2.9344</td>\n",
       "      <td>222100.0</td>\n",
       "    </tr>\n",
       "    <tr>\n",
       "      <th>20638</th>\n",
       "      <td>37.58</td>\n",
       "      <td>-121.96</td>\n",
       "      <td>15.0</td>\n",
       "      <td>3575.0</td>\n",
       "      <td>597.0</td>\n",
       "      <td>1777.0</td>\n",
       "      <td>559.0</td>\n",
       "      <td>5.7192</td>\n",
       "      <td>283500.0</td>\n",
       "    </tr>\n",
       "    <tr>\n",
       "      <th>20639</th>\n",
       "      <td>37.77</td>\n",
       "      <td>-122.42</td>\n",
       "      <td>52.0</td>\n",
       "      <td>4226.0</td>\n",
       "      <td>1315.0</td>\n",
       "      <td>2619.0</td>\n",
       "      <td>1242.0</td>\n",
       "      <td>2.5755</td>\n",
       "      <td>325000.0</td>\n",
       "    </tr>\n",
       "  </tbody>\n",
       "</table>\n",
       "<p>20640 rows × 9 columns</p>\n",
       "</div>"
      ],
      "text/plain": [
       "       latitude  longitude  housing_median_age  total_rooms  total_bedrooms  \\\n",
       "0         36.06    -119.01                25.0       1505.0             NaN   \n",
       "1         35.14    -119.46                30.0       2943.0             NaN   \n",
       "2         37.80    -122.44                52.0       3830.0             NaN   \n",
       "3         34.28    -118.72                17.0       3051.0             NaN   \n",
       "4         36.62    -121.93                34.0       2351.0             NaN   \n",
       "...         ...        ...                 ...          ...             ...   \n",
       "20635     33.78    -117.96                35.0       1330.0           201.0   \n",
       "20636     34.02    -117.43                33.0       3084.0           570.0   \n",
       "20637     34.03    -118.38                36.0       2101.0           569.0   \n",
       "20638     37.58    -121.96                15.0       3575.0           597.0   \n",
       "20639     37.77    -122.42                52.0       4226.0          1315.0   \n",
       "\n",
       "       population  households  median_income  median_house_value  \n",
       "0          1392.0       359.0         1.6812             47700.0  \n",
       "1          1565.0       584.0         2.5313             45800.0  \n",
       "2          1310.0       963.0         3.4801            500001.0  \n",
       "3          1705.0       495.0         5.7376            218600.0  \n",
       "4          1063.0       428.0         3.7250            278000.0  \n",
       "...           ...         ...            ...                 ...  \n",
       "20635       658.0       217.0         6.3700            229200.0  \n",
       "20636      1753.0       449.0         3.0500             97800.0  \n",
       "20637      1756.0       527.0         2.9344            222100.0  \n",
       "20638      1777.0       559.0         5.7192            283500.0  \n",
       "20639      2619.0      1242.0         2.5755            325000.0  \n",
       "\n",
       "[20640 rows x 9 columns]"
      ]
     },
     "execution_count": 8,
     "metadata": {},
     "output_type": "execute_result"
    }
   ],
   "source": [
    "#shuffle dataframe\n",
    "shuffled_df = df.sample(frac =1)\n",
    "shuffled_df.reset_index(drop=True, inplace=True)\n",
    "shuffled_df"
   ]
  },
  {
   "cell_type": "code",
   "execution_count": 9,
   "id": "f05c42f7",
   "metadata": {},
   "outputs": [
    {
     "name": "stdout",
     "output_type": "stream",
     "text": [
      "4128 4128 12384\n",
      "record count is:20640\n"
     ]
    }
   ],
   "source": [
    "#split data\n",
    "df_val = shuffled_df.iloc[:n_val].copy()\n",
    "df_test = shuffled_df.iloc[n_val:n_val+n_test].copy()\n",
    "df_train = shuffled_df.iloc[n_val+n_test:].copy()\n",
    "print(len(df_val), len(df_test), len(df_train))\n",
    "print(f'record count is:{len(df_val) + len(df_test) + len(df_train)}')"
   ]
  },
  {
   "cell_type": "code",
   "execution_count": 10,
   "id": "e013c251",
   "metadata": {},
   "outputs": [],
   "source": [
    "#extracting targets & applying log transformation to deal with skewness\n",
    "y_train = np.log1p(df_train['median_house_value'].values)\n",
    "y_test = np.log1p(df_test['median_house_value'].values)\n",
    "y_val = np.log1p(df_val['median_house_value'].values)"
   ]
  },
  {
   "cell_type": "code",
   "execution_count": 12,
   "id": "d4a265af",
   "metadata": {},
   "outputs": [],
   "source": [
    "# removing the target from the dataframes\n",
    "del df_train['median_house_value']\n",
    "del df_val['median_house_value']\n",
    "del df_test['median_house_value']"
   ]
  },
  {
   "cell_type": "code",
   "execution_count": 13,
   "id": "f02b835c",
   "metadata": {},
   "outputs": [
    {
     "data": {
      "text/html": [
       "<div>\n",
       "<style scoped>\n",
       "    .dataframe tbody tr th:only-of-type {\n",
       "        vertical-align: middle;\n",
       "    }\n",
       "\n",
       "    .dataframe tbody tr th {\n",
       "        vertical-align: top;\n",
       "    }\n",
       "\n",
       "    .dataframe thead th {\n",
       "        text-align: right;\n",
       "    }\n",
       "</style>\n",
       "<table border=\"1\" class=\"dataframe\">\n",
       "  <thead>\n",
       "    <tr style=\"text-align: right;\">\n",
       "      <th></th>\n",
       "      <th>latitude</th>\n",
       "      <th>longitude</th>\n",
       "      <th>housing_median_age</th>\n",
       "      <th>total_rooms</th>\n",
       "      <th>total_bedrooms</th>\n",
       "      <th>population</th>\n",
       "      <th>households</th>\n",
       "      <th>median_income</th>\n",
       "    </tr>\n",
       "  </thead>\n",
       "  <tbody>\n",
       "    <tr>\n",
       "      <th>8256</th>\n",
       "      <td>34.11</td>\n",
       "      <td>-118.63</td>\n",
       "      <td>35.0</td>\n",
       "      <td>3795.0</td>\n",
       "      <td>690.0</td>\n",
       "      <td>1521.0</td>\n",
       "      <td>653.0</td>\n",
       "      <td>5.8735</td>\n",
       "    </tr>\n",
       "    <tr>\n",
       "      <th>8257</th>\n",
       "      <td>33.32</td>\n",
       "      <td>-115.98</td>\n",
       "      <td>8.0</td>\n",
       "      <td>240.0</td>\n",
       "      <td>46.0</td>\n",
       "      <td>63.0</td>\n",
       "      <td>24.0</td>\n",
       "      <td>1.4688</td>\n",
       "    </tr>\n",
       "    <tr>\n",
       "      <th>8258</th>\n",
       "      <td>38.74</td>\n",
       "      <td>-120.78</td>\n",
       "      <td>28.0</td>\n",
       "      <td>4236.0</td>\n",
       "      <td>877.0</td>\n",
       "      <td>2008.0</td>\n",
       "      <td>881.0</td>\n",
       "      <td>2.1603</td>\n",
       "    </tr>\n",
       "    <tr>\n",
       "      <th>8259</th>\n",
       "      <td>37.58</td>\n",
       "      <td>-122.37</td>\n",
       "      <td>43.0</td>\n",
       "      <td>2506.0</td>\n",
       "      <td>432.0</td>\n",
       "      <td>967.0</td>\n",
       "      <td>428.0</td>\n",
       "      <td>4.7404</td>\n",
       "    </tr>\n",
       "    <tr>\n",
       "      <th>8260</th>\n",
       "      <td>37.45</td>\n",
       "      <td>-121.92</td>\n",
       "      <td>10.0</td>\n",
       "      <td>3937.0</td>\n",
       "      <td>1054.0</td>\n",
       "      <td>2032.0</td>\n",
       "      <td>1002.0</td>\n",
       "      <td>3.2617</td>\n",
       "    </tr>\n",
       "  </tbody>\n",
       "</table>\n",
       "</div>"
      ],
      "text/plain": [
       "      latitude  longitude  housing_median_age  total_rooms  total_bedrooms  \\\n",
       "8256     34.11    -118.63                35.0       3795.0           690.0   \n",
       "8257     33.32    -115.98                 8.0        240.0            46.0   \n",
       "8258     38.74    -120.78                28.0       4236.0           877.0   \n",
       "8259     37.58    -122.37                43.0       2506.0           432.0   \n",
       "8260     37.45    -121.92                10.0       3937.0          1054.0   \n",
       "\n",
       "      population  households  median_income  \n",
       "8256      1521.0       653.0         5.8735  \n",
       "8257        63.0        24.0         1.4688  \n",
       "8258      2008.0       881.0         2.1603  \n",
       "8259       967.0       428.0         4.7404  \n",
       "8260      2032.0      1002.0         3.2617  "
      ]
     },
     "execution_count": 13,
     "metadata": {},
     "output_type": "execute_result"
    }
   ],
   "source": [
    "df_train.head()\n",
    "# median house value poofed!"
   ]
  },
  {
   "cell_type": "code",
   "execution_count": 14,
   "id": "f59555dc",
   "metadata": {},
   "outputs": [
    {
     "data": {
      "text/plain": [
       "latitude              True\n",
       "longitude             True\n",
       "housing_median_age    True\n",
       "total_rooms           True\n",
       "total_bedrooms        True\n",
       "population            True\n",
       "households            True\n",
       "median_income         True\n",
       "dtype: bool"
      ]
     },
     "execution_count": 14,
     "metadata": {},
     "output_type": "execute_result"
    }
   ],
   "source": [
    "df_train.dtypes == df_val.dtypes"
   ]
  },
  {
   "cell_type": "markdown",
   "id": "c68866f4",
   "metadata": {},
   "source": [
    "## Question 3\n",
    "We need to deal with missing values for the column from Q1.<br>\n",
    "We have two options: fill it with 0 or with the mean of this variable.<br>\n",
    "Try both options. For each, train a linear regression model without regularization using the code from the lessons.<br>\n",
    "For computing the mean, use the training only!<br>\n",
    "Use the validation dataset to evaluate the models and compare the RMSE of each option.<br>\n",
    "Round the RMSE scores to 2 decimal digits using round(score, 2)<br>\n",
    "Which option gives better RMSE?<br>\n",
    "Options:<br>\n",
    "\n",
    "With 0<br>\n",
    "With mean<br>\n",
    "With median<br>\n",
    "Both are equally good<br>"
   ]
  },
  {
   "cell_type": "code",
   "execution_count": 15,
   "id": "34126e04",
   "metadata": {},
   "outputs": [],
   "source": [
    "#Prep and train code\n",
    "def impute_mean(df):\n",
    "    df = df.copy()\n",
    "    df = df.fillna(df.total_bedrooms.mean())\n",
    "    X = df.values\n",
    "    return X\n",
    "\n",
    "def impute_zero(df):\n",
    "    df = df.copy()\n",
    "    df = df.fillna(0)\n",
    "    X = df.values\n",
    "    return X\n",
    "\n",
    "def train_linear_regression(X, y):\n",
    "    ones = np.ones(X.shape[0])\n",
    "    X = np.column_stack([ones, X])\n",
    "\n",
    "    XTX = X.T.dot(X)\n",
    "    XTX_inv = np.linalg.inv(XTX)\n",
    "    w = XTX_inv.dot(X.T).dot(y)\n",
    "    \n",
    "    return w[0], w[1:]\n",
    "\n",
    "def rmse(y, y_pred):\n",
    "    error = y_pred - y\n",
    "    mse = (error ** 2).mean()\n",
    "    return np.sqrt(mse)"
   ]
  },
  {
   "cell_type": "code",
   "execution_count": 16,
   "id": "9b334190",
   "metadata": {},
   "outputs": [
    {
     "name": "stdout",
     "output_type": "stream",
     "text": [
      "train 0.34\n",
      "validation 0.35\n"
     ]
    }
   ],
   "source": [
    "#filling with mean\n",
    "X_train = impute_mean(df_train)\n",
    "w_0, w = train_linear_regression(X_train, y_train)\n",
    "\n",
    "y_pred = w_0 + X_train.dot(w)\n",
    "print('train', round(rmse(y_train, y_pred),2))\n",
    "X_val = impute_mean(df_val)\n",
    "y_pred = w_0 + X_val.dot(w)\n",
    "print('validation', round(rmse(y_val, y_pred),2))"
   ]
  },
  {
   "cell_type": "code",
   "execution_count": 17,
   "id": "7286934b",
   "metadata": {},
   "outputs": [
    {
     "name": "stdout",
     "output_type": "stream",
     "text": [
      "train 0.34\n",
      "validation 0.36\n"
     ]
    }
   ],
   "source": [
    "X_train = impute_zero(df_train)\n",
    "w_0, w = train_linear_regression(X_train, y_train)\n",
    "\n",
    "y_pred = w_0 + X_train.dot(w)\n",
    "print('train', round(rmse(y_train, y_pred),2))\n",
    "X_val = impute_zero(df_val)\n",
    "y_pred = w_0 + X_val.dot(w)\n",
    "print('validation', round(rmse(y_val, y_pred),2))"
   ]
  },
  {
   "cell_type": "markdown",
   "id": "84e19e8a",
   "metadata": {},
   "source": [
    "#### As validation for both mean and zero imputation is the same, the answer is both are equally good."
   ]
  },
  {
   "cell_type": "markdown",
   "id": "b996f061",
   "metadata": {},
   "source": [
    "## Question 4\n",
    "Now let's train a regularized linear regression.<br>\n",
    "For this question, fill the NAs with 0.<br>\n",
    "Try different values of r from this list: [0, 0.000001, 0.0001, 0.001, 0.01, 0.1, 1, 5, 10].<br>\n",
    "Use RMSE to evaluate the model on the validation dataset.<br>\n",
    "Round the RMSE scores to 2 decimal digits.<br>\n",
    "Which r gives the best RMSE?<br>\n",
    "If there are multiple options, select the smallest r.<br>\n",
    "\n",
    "Options:<br>\n",
    "\n",
    "0<br>\n",
    "0.000001<br>\n",
    "0.001<br>\n",
    "0.01<br>"
   ]
  },
  {
   "cell_type": "code",
   "execution_count": 18,
   "id": "978fdf3b",
   "metadata": {},
   "outputs": [],
   "source": [
    "# function\n",
    "def regularized_lr(X, y, r=0.0):\n",
    "    ones = np.ones(X.shape[0])\n",
    "    X = np.column_stack([ones, X])\n",
    "\n",
    "    XTX = X.T.dot(X)\n",
    "    reg = r * np.eye(XTX.shape[0])\n",
    "    XTX = XTX + reg\n",
    "\n",
    "    XTX_inv = np.linalg.inv(XTX)\n",
    "    w = XTX_inv.dot(X.T).dot(y)\n",
    "\n",
    "    return w[0], w[1:]"
   ]
  },
  {
   "cell_type": "code",
   "execution_count": 19,
   "id": "8ba9d83e",
   "metadata": {},
   "outputs": [],
   "source": [
    "X_train = impute_zero(df_train)\n",
    "\n",
    "def validator():\n",
    "    res = [1000000, 0] \n",
    "    for r in [0, 0.001, 0.01, 0.000001]:\n",
    "        w_0, w = regularized_lr(X_train, y_train, r=r)\n",
    "        X_val = impute_zero(df_val)\n",
    "        y_pred = w_0 + X_val.dot(w)\n",
    "        metric = rmse(y_val, y_pred)\n",
    "        print(f'at alpha = {r}, validation RMSE = {round(metric,2)}')\n",
    "        if metric < res[0]:\n",
    "            res[0] = metric\n",
    "            res[1] = r\n",
    "    print(f'best validation score = {round(res[0],2)} at alpha = {res[1]}')"
   ]
  },
  {
   "cell_type": "code",
   "execution_count": 20,
   "id": "6888820b",
   "metadata": {},
   "outputs": [],
   "source": [
    "X_train = impute_zero(df_train)\n",
    "\n",
    "def validator_no_rounding():\n",
    "    res = [1000000, 0] \n",
    "    for r in [0, 0.001, 0.01, 0.000001]:\n",
    "        w_0, w = regularized_lr(X_train, y_train, r=r)\n",
    "        X_val = impute_zero(df_val)\n",
    "        y_pred = w_0 + X_val.dot(w)\n",
    "        metric = rmse(y_val, y_pred)\n",
    "        print(f'at alpha = {r}, validation RMSE = {metric}')\n",
    "        if metric < res[0]:\n",
    "            res[0] = metric\n",
    "            res[1] = r\n",
    "    print(f'best validation score = {res[0]} at alpha = {res[1]}')"
   ]
  },
  {
   "cell_type": "code",
   "execution_count": 21,
   "id": "9c893391",
   "metadata": {},
   "outputs": [
    {
     "name": "stdout",
     "output_type": "stream",
     "text": [
      "at alpha = 0, validation RMSE = 0.36\n",
      "at alpha = 0.001, validation RMSE = 0.36\n",
      "at alpha = 0.01, validation RMSE = 0.36\n",
      "at alpha = 1e-06, validation RMSE = 0.36\n",
      "best validation score = 0.36 at alpha = 0.01\n"
     ]
    }
   ],
   "source": [
    "validator()"
   ]
  },
  {
   "cell_type": "code",
   "execution_count": 22,
   "id": "fede705f",
   "metadata": {},
   "outputs": [
    {
     "name": "stdout",
     "output_type": "stream",
     "text": [
      "at alpha = 0, validation RMSE = 0.3555406178184542\n",
      "at alpha = 0.001, validation RMSE = 0.35553528430183123\n",
      "at alpha = 0.01, validation RMSE = 0.3554898149801396\n",
      "at alpha = 1e-06, validation RMSE = 0.355540612458946\n",
      "best validation score = 0.3554898149801396 at alpha = 0.01\n"
     ]
    }
   ],
   "source": [
    "validator_no_rounding()"
   ]
  },
  {
   "cell_type": "markdown",
   "id": "e49fb7c2",
   "metadata": {},
   "source": [
    "#### Best value at alpha = 0.01 based on results from validator_no_rounding"
   ]
  },
  {
   "cell_type": "markdown",
   "id": "381a4872",
   "metadata": {},
   "source": [
    "## Question 5\n",
    "We used seed 42 for splitting the data. Let's find out how selecting the seed influences our score. <br>\n",
    "Try different seed values: [0, 1, 2, 3, 4, 5, 6, 7, 8, 9].<br>\n",
    "For each seed, do the train/validation/test split with 60%/20%/20% distribution.<br>\n",
    "Fill the missing values with 0 and train a model without regularization.<br>\n",
    "For each seed, evaluate the model on the validation dataset and collect the RMSE scores.<br>\n",
    "What's the standard deviation of all the scores? To compute the standard deviation, use np.std.<br>\n",
    "Round the result to 3 decimal digits (round(std, 3))<br>\n",
    "Note: Standard deviation shows how different the values are. If it's low, then all values are approximately the same. If it's high, the values are different. If standard deviation of scores is low, then our model is stable.<br>\n",
    "\n",
    "Options:<br>\n",
    "\n",
    "0.5<br>\n",
    "0.05<br>\n",
    "0.005<br>\n",
    "0.0005<br>"
   ]
  },
  {
   "cell_type": "code",
   "execution_count": 23,
   "id": "f446f10a",
   "metadata": {},
   "outputs": [
    {
     "name": "stdout",
     "output_type": "stream",
     "text": [
      "validation score for seed value of 0 = 0.34\n",
      "validation score for seed value of 1 = 0.35\n",
      "validation score for seed value of 2 = 0.35\n",
      "validation score for seed value of 3 = 0.34\n",
      "validation score for seed value of 4 = 0.34\n",
      "validation score for seed value of 5 = 0.34\n",
      "validation score for seed value of 6 = 0.34\n",
      "validation score for seed value of 7 = 0.34\n",
      "validation score for seed value of 8 = 0.34\n",
      "validation score for seed value of 9 = 0.34\n"
     ]
    }
   ],
   "source": [
    "seed_list = [0, 1, 2, 3, 4, 5, 6, 7, 8, 9]\n",
    "score_list = []\n",
    "for i in seed_list:\n",
    "    np.random.seed(i)\n",
    "    shuffled_df = df.sample(frac =1)\n",
    "    shuffled_df.reset_index(drop=True, inplace=True)\n",
    "    df_val = shuffled_df.iloc[:n_val].copy()\n",
    "    df_test = shuffled_df.iloc[n_val:n_val+n_test].copy()\n",
    "    df_train = shuffled_df.iloc[n_val+n_test:].copy()\n",
    "    y_train = np.log1p(df_train['median_house_value'].values)\n",
    "    y_test = np.log1p(df_test['median_house_value'].values)\n",
    "    y_val = np.log1p(df_val['median_house_value'].values)\n",
    "    del df_train['median_house_value']\n",
    "    del df_val['median_house_value']\n",
    "    del df_test['median_house_value']\n",
    "    X_train = impute_zero(df_train)\n",
    "    w_0, w = train_linear_regression(X_train, y_train)\n",
    "    X_val = impute_zero(df_val)\n",
    "    y_pred = w_0 + X_val.dot(w)\n",
    "    print(f'validation score for seed value of {i} = {round(rmse(y_val, y_pred),2)}')\n",
    "    score_list.append(round(rmse(y_val, y_pred),2))"
   ]
  },
  {
   "cell_type": "code",
   "execution_count": 24,
   "id": "6cf1ff5a",
   "metadata": {},
   "outputs": [
    {
     "data": {
      "text/plain": [
       "0.004"
      ]
     },
     "execution_count": 24,
     "metadata": {},
     "output_type": "execute_result"
    }
   ],
   "source": [
    "std_of_results = round(np.std(score_list),3)\n",
    "std_of_results"
   ]
  },
  {
   "cell_type": "markdown",
   "id": "23640864",
   "metadata": {},
   "source": [
    "## Question 6\n",
    "Split the dataset like previously, use seed 9. <br>\n",
    "Combine train and validation datasets.<br>\n",
    "Fill the missing values with 0 and train a model with r=0.001.<br>\n",
    "What's the RMSE on the test dataset?<br>\n",
    "Options:<br>\n",
    "\n",
    "0.35<br>\n",
    "0.035<br>\n",
    "0.45<br>\n",
    "0.045<br>"
   ]
  },
  {
   "cell_type": "code",
   "execution_count": 25,
   "id": "a8cc004e",
   "metadata": {},
   "outputs": [],
   "source": [
    "## since i am re-using code, I took the liberty to forgo the pd.concat[df_train, df_val]\n",
    "np.random.seed(9)\n",
    "shuffled_df = df.sample(frac =1)\n",
    "shuffled_df.reset_index(drop=True, inplace=True)\n",
    "df_test = shuffled_df.iloc[:n_test].copy()\n",
    "df_train = shuffled_df.iloc[n_test:].copy()\n",
    "y_train = np.log1p(df_train['median_house_value'].values)\n",
    "y_test = np.log1p(df_test['median_house_value'].values)\n",
    "del df_train['median_house_value']\n",
    "del df_test['median_house_value']"
   ]
  },
  {
   "cell_type": "code",
   "execution_count": 26,
   "id": "f2c10da5",
   "metadata": {},
   "outputs": [],
   "source": [
    "X_train = impute_zero(df_train)\n",
    "w_0, w = regularized_lr(X_train, y_train, r=0.001)"
   ]
  },
  {
   "cell_type": "code",
   "execution_count": 27,
   "id": "36ae0a7e",
   "metadata": {},
   "outputs": [
    {
     "name": "stdout",
     "output_type": "stream",
     "text": [
      "0.33754717797127454\n",
      "validation score for test dataset = 0.34\n"
     ]
    }
   ],
   "source": [
    "X_test = impute_zero(df_test)\n",
    "y_pred = w_0 + X_test.dot(w)\n",
    "print(rmse(y_test, y_pred))\n",
    "print(f'validation score for test dataset = {round(rmse(y_test, y_pred),2)}')"
   ]
  }
 ],
 "metadata": {
  "kernelspec": {
   "display_name": "Python 3 (ipykernel)",
   "language": "python",
   "name": "python3"
  },
  "language_info": {
   "codemirror_mode": {
    "name": "ipython",
    "version": 3
   },
   "file_extension": ".py",
   "mimetype": "text/x-python",
   "name": "python",
   "nbconvert_exporter": "python",
   "pygments_lexer": "ipython3",
   "version": "3.9.12"
  },
  "vp": {
   "vp_config_version": "1.0.0",
   "vp_menu_width": 273,
   "vp_note_display": false,
   "vp_note_width": 0,
   "vp_position": {
    "width": 278
   },
   "vp_section_display": false,
   "vp_signature": "VisualPython"
  }
 },
 "nbformat": 4,
 "nbformat_minor": 5
}
